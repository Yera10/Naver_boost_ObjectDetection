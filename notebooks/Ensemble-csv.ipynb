{
 "cells": [
  {
   "cell_type": "markdown",
   "metadata": {},
   "source": [
    "# 앙상블\n",
    "submission.csv 파일들을 앙상블 해주는 코드"
   ]
  },
  {
   "cell_type": "code",
   "execution_count": null,
   "metadata": {},
   "outputs": [],
   "source": [
    "!pip install ensemble_boxes"
   ]
  },
  {
   "cell_type": "code",
   "execution_count": 1,
   "metadata": {},
   "outputs": [],
   "source": [
    "import numpy as np\n",
    "import pandas as pd\n",
    "\n",
    "from ensemble_boxes import *\n",
    "from pycocotools.coco import COCO\n",
    "from tqdm import tqdm"
   ]
  },
  {
   "cell_type": "code",
   "execution_count": 2,
   "metadata": {},
   "outputs": [],
   "source": [
    "# 앙상블할 파일 목록\n",
    "files = [\n",
    "    '~/me.csv',\n",
    "    '~/yera.csv',\n",
    "    '~/tj.csv',\n",
    "]\n",
    "\n",
    "dfs = [pd.read_csv(file) for file in files]\n",
    "\n",
    "# 같은 이미지 Set에 대한 예측인지 검사\n",
    "for df1 in dfs:\n",
    "    for df2 in dfs:\n",
    "        assert all(df1['image_id'] == df2['image_id']), '다른 데이터셋에 대한 CSV 파일이 섞인 것 같음'"
   ]
  },
  {
   "cell_type": "code",
   "execution_count": 3,
   "metadata": {
    "tags": []
   },
   "outputs": [
    {
     "name": "stderr",
     "output_type": "stream",
     "text": [
      "  0%|          | 0/4871 [00:00<?, ?it/s]/opt/conda/envs/detection/lib/python3.7/site-packages/ensemble_boxes/ensemble_boxes_wbf.py:54: UserWarning: Y1 < 0 in box. Set it to 0.\n",
      "  warnings.warn('Y1 < 0 in box. Set it to 0.')\n",
      "/opt/conda/envs/detection/lib/python3.7/site-packages/ensemble_boxes/ensemble_boxes_wbf.py:51: UserWarning: X2 > 1 in box. Set it to 1. Check that you normalize boxes in [0, 1] range.\n",
      "  warnings.warn('X2 > 1 in box. Set it to 1. Check that you normalize boxes in [0, 1] range.')\n",
      "/opt/conda/envs/detection/lib/python3.7/site-packages/ensemble_boxes/ensemble_boxes_wbf.py:42: UserWarning: X1 < 0 in box. Set it to 0.\n",
      "  warnings.warn('X1 < 0 in box. Set it to 0.')\n",
      "/opt/conda/envs/detection/lib/python3.7/site-packages/ensemble_boxes/ensemble_boxes_wbf.py:63: UserWarning: Y2 > 1 in box. Set it to 1. Check that you normalize boxes in [0, 1] range.\n",
      "  warnings.warn('Y2 > 1 in box. Set it to 1. Check that you normalize boxes in [0, 1] range.')\n",
      "100%|██████████| 4871/4871 [00:22<00:00, 214.45it/s]\n"
     ]
    }
   ],
   "source": [
    "rows = []\n",
    "\n",
    "for i in tqdm(range(len(dfs[0]))):\n",
    "    boxes_list = []\n",
    "    scores_list = []\n",
    "    labels_list = []\n",
    "    \n",
    "    for df in dfs:\n",
    "        preds, image_id = df.iloc[i]\n",
    "        \n",
    "        assert image_id == f'test/{i:04d}.jpg'\n",
    "        \n",
    "        if preds == float('nan'):\n",
    "            boxes = []\n",
    "            scores = []\n",
    "            labels = []\n",
    "        else:\n",
    "            L = preds.split()\n",
    "            data = np.array(L).reshape(-1, 6)\n",
    "\n",
    "            labels = data[:, 0].astype(int)\n",
    "            scores = data[:, 1].astype(float)\n",
    "            boxes = data[:, 2:].astype(float) / 1024.\n",
    "        \n",
    "        boxes_list.append(boxes)\n",
    "        scores_list.append(scores)\n",
    "        labels_list.append(labels)\n",
    "    \n",
    "    # 앙상블 진행 (NMS, Soft-NMS, NMW, WBF 중 선택)\n",
    "    # https://github.com/ZFTurbo/Weighted-Boxes-Fusion\n",
    "    \n",
    "    # 사용방법\n",
    "    \n",
    "    # boxes, scores, labels = nms(boxes_list, scores_list, labels_list, weights=weights, iou_thr=iou_thr)\n",
    "    # boxes, scores, labels = soft_nms(boxes_list, scores_list, labels_list, weights=weights, iou_thr=iou_thr, sigma=sigma, thresh=skip_box_thr)\n",
    "    # boxes, scores, labels = non_maximum_weighted(boxes_list, scores_list, labels_list, weights=weights, iou_thr=iou_thr, skip_box_thr=skip_box_thr)\n",
    "    # boxes, scores, labels = weighted_boxes_fusion(boxes_list, scores_list, labels_list, weights=weights, iou_thr=iou_thr, skip_box_thr=skip_box_thr)\n",
    "    \n",
    "    boxes_e, scores_e, labels_e = weighted_boxes_fusion(boxes_list, scores_list, labels_list)\n",
    "    \n",
    "    \n",
    "    PredictionString = ''\n",
    "    for box, score, label in zip(boxes_e, scores_e, labels_e):\n",
    "        PredictionString += f'{int(label)} {score} {box[0]*1024} {box[1]*1024} {box[2]*1024} {box[3]*1024} '\n",
    "    row = pd.Series({\n",
    "        'PredictionString': PredictionString,\n",
    "        'image_id': image_id\n",
    "    }).to_frame().T\n",
    "    \n",
    "    rows.append(row)"
   ]
  },
  {
   "cell_type": "code",
   "execution_count": 4,
   "metadata": {},
   "outputs": [
    {
     "data": {
      "text/html": [
       "<div>\n",
       "<style scoped>\n",
       "    .dataframe tbody tr th:only-of-type {\n",
       "        vertical-align: middle;\n",
       "    }\n",
       "\n",
       "    .dataframe tbody tr th {\n",
       "        vertical-align: top;\n",
       "    }\n",
       "\n",
       "    .dataframe thead th {\n",
       "        text-align: right;\n",
       "    }\n",
       "</style>\n",
       "<table border=\"1\" class=\"dataframe\">\n",
       "  <thead>\n",
       "    <tr style=\"text-align: right;\">\n",
       "      <th></th>\n",
       "      <th>PredictionString</th>\n",
       "      <th>image_id</th>\n",
       "    </tr>\n",
       "  </thead>\n",
       "  <tbody>\n",
       "    <tr>\n",
       "      <th>0</th>\n",
       "      <td>7 0.9828125834465027 214.46697998046875 47.993...</td>\n",
       "      <td>test/0000.jpg</td>\n",
       "    </tr>\n",
       "    <tr>\n",
       "      <th>0</th>\n",
       "      <td>5 0.6562874913215637 338.6947937011719 248.465...</td>\n",
       "      <td>test/0001.jpg</td>\n",
       "    </tr>\n",
       "    <tr>\n",
       "      <th>0</th>\n",
       "      <td>1 0.9643809795379639 73.37809753417969 277.484...</td>\n",
       "      <td>test/0002.jpg</td>\n",
       "    </tr>\n",
       "    <tr>\n",
       "      <th>0</th>\n",
       "      <td>9 0.9629031419754028 132.81578063964844 268.68...</td>\n",
       "      <td>test/0003.jpg</td>\n",
       "    </tr>\n",
       "    <tr>\n",
       "      <th>0</th>\n",
       "      <td>1 0.9649724960327148 190.38409423828125 268.07...</td>\n",
       "      <td>test/0004.jpg</td>\n",
       "    </tr>\n",
       "  </tbody>\n",
       "</table>\n",
       "</div>"
      ],
      "text/plain": [
       "                                    PredictionString       image_id\n",
       "0  7 0.9828125834465027 214.46697998046875 47.993...  test/0000.jpg\n",
       "0  5 0.6562874913215637 338.6947937011719 248.465...  test/0001.jpg\n",
       "0  1 0.9643809795379639 73.37809753417969 277.484...  test/0002.jpg\n",
       "0  9 0.9629031419754028 132.81578063964844 268.68...  test/0003.jpg\n",
       "0  1 0.9649724960327148 190.38409423828125 268.07...  test/0004.jpg"
      ]
     },
     "execution_count": 4,
     "metadata": {},
     "output_type": "execute_result"
    }
   ],
   "source": [
    "df_ensemble = pd.concat(rows)\n",
    "df_ensemble.to_csv('ensemble.csv')\n",
    "\n",
    "df_ensemble.head()"
   ]
  },
  {
   "cell_type": "markdown",
   "metadata": {},
   "source": [
    "# 박스 개수 분석"
   ]
  },
  {
   "cell_type": "code",
   "execution_count": 5,
   "metadata": {
    "tags": []
   },
   "outputs": [
    {
     "name": "stderr",
     "output_type": "stream",
     "text": [
      "100%|██████████| 4/4 [00:31<00:00,  7.91s/it]\n"
     ]
    },
    {
     "data": {
      "text/html": [
       "<div>\n",
       "<style scoped>\n",
       "    .dataframe tbody tr th:only-of-type {\n",
       "        vertical-align: middle;\n",
       "    }\n",
       "\n",
       "    .dataframe tbody tr th {\n",
       "        vertical-align: top;\n",
       "    }\n",
       "\n",
       "    .dataframe thead th {\n",
       "        text-align: right;\n",
       "    }\n",
       "</style>\n",
       "<table border=\"1\" class=\"dataframe\">\n",
       "  <thead>\n",
       "    <tr style=\"text-align: right;\">\n",
       "      <th></th>\n",
       "      <th>cnt</th>\n",
       "      <th>cnt_small</th>\n",
       "      <th>cnt_medium</th>\n",
       "      <th>cnt_large</th>\n",
       "    </tr>\n",
       "  </thead>\n",
       "  <tbody>\n",
       "    <tr>\n",
       "      <th>~/me.csv</th>\n",
       "      <td>11.917881</td>\n",
       "      <td>0.236707</td>\n",
       "      <td>3.316157</td>\n",
       "      <td>8.365017</td>\n",
       "    </tr>\n",
       "    <tr>\n",
       "      <th>~/yera.csv</th>\n",
       "      <td>18.343256</td>\n",
       "      <td>0.105317</td>\n",
       "      <td>5.191336</td>\n",
       "      <td>13.046602</td>\n",
       "    </tr>\n",
       "    <tr>\n",
       "      <th>~/tj.csv</th>\n",
       "      <td>38.099158</td>\n",
       "      <td>0.888113</td>\n",
       "      <td>14.347157</td>\n",
       "      <td>22.863888</td>\n",
       "    </tr>\n",
       "    <tr>\n",
       "      <th>ensemble</th>\n",
       "      <td>13.000000</td>\n",
       "      <td>0.000000</td>\n",
       "      <td>1.000000</td>\n",
       "      <td>12.000000</td>\n",
       "    </tr>\n",
       "  </tbody>\n",
       "</table>\n",
       "</div>"
      ],
      "text/plain": [
       "                  cnt  cnt_small  cnt_medium  cnt_large\n",
       "~/me.csv    11.917881   0.236707    3.316157   8.365017\n",
       "~/yera.csv  18.343256   0.105317    5.191336  13.046602\n",
       "~/tj.csv    38.099158   0.888113   14.347157  22.863888\n",
       "ensemble    13.000000   0.000000    1.000000  12.000000"
      ]
     },
     "execution_count": 5,
     "metadata": {},
     "output_type": "execute_result"
    }
   ],
   "source": [
    "all_files = files + ['ensemble']\n",
    "all_dfs = dfs + [df_ensemble]\n",
    "cnt_list = []\n",
    "\n",
    "for file, df in tqdm(zip(all_files, all_dfs), total=len(all_files)):\n",
    "    for i in range(len(df)):\n",
    "        preds, image_id = df.iloc[i][['PredictionString', 'image_id']]\n",
    "        idx = df.iloc[i].name\n",
    "\n",
    "        L = preds.split()\n",
    "        data = np.array(L).reshape(-1, 6)\n",
    "\n",
    "        bboxes = data[:, 2:].astype(float)\n",
    "        x, y, X, Y = bboxes.T\n",
    "        w = X - x\n",
    "        h = Y - y\n",
    "        area = w*h\n",
    "        \n",
    "        # assert (x >= 0).all()\n",
    "        # assert (X <= 1024).all()\n",
    "        # assert (y >= 0).all()\n",
    "        # assert (Y <= 1024).all()\n",
    "\n",
    "        df.loc[idx, 'cnt'] = len(bboxes)\n",
    "        df.loc[idx, 'cnt_small'] = np.where(area <= 32**2)[0].size\n",
    "        df.loc[idx, 'cnt_medium'] = np.where((32**2 <= area) & (area <= 96**2))[0].size\n",
    "        df.loc[idx, 'cnt_large'] = np.where(area >= 96**2)[0].size\n",
    "    \n",
    "    cnt_list.append(df.iloc[:, 2:].mean().to_frame(name=file).T)\n",
    "    \n",
    "pd.concat(cnt_list)"
   ]
  }
 ],
 "metadata": {
  "kernelspec": {
   "display_name": "detection",
   "language": "python",
   "name": "detection"
  },
  "language_info": {
   "codemirror_mode": {
    "name": "ipython",
    "version": 3
   },
   "file_extension": ".py",
   "mimetype": "text/x-python",
   "name": "python",
   "nbconvert_exporter": "python",
   "pygments_lexer": "ipython3",
   "version": "3.7.15"
  }
 },
 "nbformat": 4,
 "nbformat_minor": 4
}
