{
 "cells": [
  {
   "cell_type": "markdown",
   "id": "175cfd37-5bf9-44bc-996b-ca17e2215f9d",
   "metadata": {},
   "source": [
    "# FiftyOne"
   ]
  },
  {
   "cell_type": "code",
   "execution_count": null,
   "id": "9c946438-6fe4-4f69-a083-c7f713b21614",
   "metadata": {},
   "outputs": [],
   "source": [
    "import fiftyone as fo\n",
    "import fiftyone.zoo as foz\n",
    "\n",
    "import pandas as pd\n",
    "import numpy as np\n",
    "import json\n",
    "from tqdm import tqdm"
   ]
  },
  {
   "cell_type": "markdown",
   "id": "70fa2148-a400-48bc-b135-534f1e4216b0",
   "metadata": {},
   "source": [
    "# 훈련 셋 선언"
   ]
  },
  {
   "cell_type": "code",
   "execution_count": null,
   "id": "544b6472-03b3-40a7-b342-98d96beaa35f",
   "metadata": {},
   "outputs": [],
   "source": [
    "classes = [\"General trash\", \"Paper\", \"Paper pack\", \"Metal\", \"Glass\", \n",
    "           \"Plastic\", \"Styrofoam\", \"Plastic bag\", \"Battery\", \"Clothing\"]\n",
    "\n",
    "trainset = fo.Dataset.from_dir(\n",
    "    dataset_type=fo.types.COCODetectionDataset,\n",
    "    data_path='/opt/ml/dataset',\n",
    "    labels_path='/opt/ml/dataset/train.json',\n",
    "    name='trainset-full',\n",
    ")\n",
    "\n",
    "with fo.ProgressBar() as pb:\n",
    "    for i, s in enumerate(pb(trainset)):\n",
    "        label = fo.core.labels.NumericAttribute(value=float(len(s.detections.detections)))\n",
    "        s['bbox_num'] = label\n",
    "        s.save()"
   ]
  },
  {
   "cell_type": "markdown",
   "id": "f2a5c413-2ca7-42a3-ae9e-6afb2185f69b",
   "metadata": {},
   "source": [
    "# 테스트 셋"
   ]
  },
  {
   "cell_type": "code",
   "execution_count": null,
   "id": "56d5af8f-c712-4149-94f7-dcbd272a3293",
   "metadata": {},
   "outputs": [],
   "source": [
    "testset = fo.Dataset.from_dir(\n",
    "    dataset_type=fo.types.COCODetectionDataset,\n",
    "    data_path='/opt/ml/dataset',\n",
    "    labels_path='/opt/ml/dataset/test.json',\n",
    "    name='testset',\n",
    ")"
   ]
  },
  {
   "cell_type": "markdown",
   "id": "e5991720-d4d2-4b99-b874-e8fc81df5429",
   "metadata": {},
   "source": [
    "# Bounding Box 예측값 불러오기"
   ]
  },
  {
   "cell_type": "code",
   "execution_count": null,
   "id": "4e0e0ca4-3e59-4b28-8b9b-1343b39a3ff7",
   "metadata": {},
   "outputs": [],
   "source": [
    "csv_path = '/opt/ml/notebooks/sub.csv'\n",
    "\n",
    "df = pd.read_csv(csv_path)\n",
    "df.drop('Unnamed: 0', axis=1, inplace=True)\n",
    "for i, row in df.iterrows():\n",
    "    assert type(row['PredictionString']) != float, i\n",
    "    df[df.iloc[:,0].isna()]\n",
    "\n",
    "df.head()"
   ]
  },
  {
   "cell_type": "markdown",
   "id": "8fd06b64-b433-4e7d-bc33-5c2794431d69",
   "metadata": {},
   "source": [
    "# 예측 bbox 삽입"
   ]
  },
  {
   "cell_type": "code",
   "execution_count": null,
   "id": "10b591a5-fc02-4319-b974-a98fea8df3f3",
   "metadata": {},
   "outputs": [],
   "source": [
    "# bbox 삽입. 3분 정도 걸림 (박스 380,000개 기준)\n",
    "\n",
    "with fo.ProgressBar() as pb:\n",
    "    for i, s in enumerate(pb(testset)):\n",
    "        preds, image_id = df.iloc[i]\n",
    "        \n",
    "        detections = []\n",
    "        if type(preds) != float:\n",
    "            L = preds.split()\n",
    "            data = np.array(L).reshape(-1, 6)\n",
    "            labels = data[:, 0].astype(int)\n",
    "            scores = data[:, 1].astype(float)\n",
    "            boxes = data[:, 2:].astype(float)\n",
    "\n",
    "            # PASCAL VOC => COCO\n",
    "            xmin, ymin, xmax, ymax = boxes.T\n",
    "            x = xmin / 1024.\n",
    "            y = ymin / 1024.\n",
    "            w = (xmax - xmin) / 1024.\n",
    "            h = (ymax - ymin) / 1024.\n",
    "            new_boxes = np.stack([x, y, w, h], axis=1)\n",
    "\n",
    "\n",
    "            for label, score, box in zip(labels, scores, new_boxes):\n",
    "                det = fo.Detection(\n",
    "                    label=classes[label],\n",
    "                    bounding_box=box,\n",
    "                    confidence=score\n",
    "                )\n",
    "                detections.append(det)\n",
    "        else:\n",
    "            print(f'Wrong value at {i}, \"{preds}\"')\n",
    "        s['predictions'] = fo.Detections(detections=detections)\n",
    "        s['pred_bbox_num'] = len(detections)\n",
    "        s.save()"
   ]
  },
  {
   "cell_type": "markdown",
   "id": "23d147bd-70ce-43f8-883f-e02f1c7e7178",
   "metadata": {},
   "source": [
    "# 주목할 이미지들 태그 추가"
   ]
  },
  {
   "cell_type": "code",
   "execution_count": null,
   "id": "3012fdcc-4dc9-48e9-aa9a-a07159041bc4",
   "metadata": {},
   "outputs": [],
   "source": [
    "train_tags = {\n",
    "    # IoU 80이 넘는 박스가 있는 이미지\n",
    "    'overlap 80': ['0096', '0414', '0811', '0895', '1389', '1477', '1530', '1618', '1975', \\\n",
    "                   '1980', '1986', '1992', '2075', '2327', '2369', '2850', '2956', '3042', \\\n",
    "                   '3195', '3370', '3427', '3654', '4041', '4047', '4446', '4537', '0956', \\\n",
    "                   '1576', '3898', '1722', '2522', '3778', '3358', '4261']\n",
    "}\n",
    "\n",
    "for tag, imgs in train_tags.items():\n",
    "    for i in imgs:\n",
    "        path = f'/opt/ml/dataset/train/{i}.jpg'\n",
    "        sample = trainset[path]\n",
    "        sample.tags.append(tag)\n",
    "        sample.save()"
   ]
  },
  {
   "cell_type": "code",
   "execution_count": null,
   "id": "7056baaf-28e6-402a-9779-e8d05f5a8e8a",
   "metadata": {},
   "outputs": [],
   "source": [
    "tags = {\n",
    "    # 배터리\n",
    "    'battery': ['0096', '0209', '0598', '0693', '0738', '0842', '1057', '1251', '1298', \\\n",
    "                '1495', '1501', '1978', '2077', '2336', '2565', '2810', \\\n",
    "                '2872', '2890', '2957', '3017', '3157', '3373', '3544', '4011', '4513'\n",
    "               ],\n",
    "    \n",
    "    # 어려운 샘플들\n",
    "    'hard': [\n",
    "        '0096', # 작은 배터리\n",
    "        '0019', '0027', '0616', '0873', '2570', '4011', '4114', '4513'\n",
    "    ],\n",
    "    \n",
    "    # bbox가 없는 이미지 (UniverseNet 5-fold 앙상블에서)\n",
    "    'no-bbox': [\n",
    "         '0017', '0022', '0474', '1195', '1208', '1291', '1328', '1329', '1474', '1497', \\\n",
    "         '1528', '1772', '2150', '2352', '2414', '2668', '2816', '3436', '3551', '3741', \\\n",
    "         '4362', '4605'\n",
    "    ]\n",
    "}\n",
    "\n",
    "for tag, imgs in tags.items():\n",
    "    for i in imgs:\n",
    "        path = f'/opt/ml/dataset/test/{i}.jpg'\n",
    "        sample = testset[path]\n",
    "        sample.tags.append(tag)\n",
    "        sample.save()"
   ]
  },
  {
   "cell_type": "markdown",
   "id": "8fb61bd0-751e-4f17-a719-b80386d4cd11",
   "metadata": {},
   "source": [
    "# 세션 실행\n",
    "\n",
    "http://<서버 IP>:30001"
   ]
  },
  {
   "cell_type": "code",
   "execution_count": null,
   "id": "55fc6b9d-5f37-4fd0-b453-0f8cacf0a06c",
   "metadata": {},
   "outputs": [],
   "source": [
    "%%capture\n",
    "session = fo.launch_app(testset, port=30001);"
   ]
  }
 ],
 "metadata": {
  "kernelspec": {
   "display_name": "detection",
   "language": "python",
   "name": "detection"
  },
  "language_info": {
   "codemirror_mode": {
    "name": "ipython",
    "version": 3
   },
   "file_extension": ".py",
   "mimetype": "text/x-python",
   "name": "python",
   "nbconvert_exporter": "python",
   "pygments_lexer": "ipython3",
   "version": "3.7.15"
  }
 },
 "nbformat": 4,
 "nbformat_minor": 5
}
