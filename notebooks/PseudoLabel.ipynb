{
 "cells": [
  {
   "cell_type": "markdown",
   "id": "5069d860-4f76-4c9a-aee1-f8c833abdf76",
   "metadata": {},
   "source": [
    "# 수도 라벨링을 위한 csv-to-json 변환 코드 v2"
   ]
  },
  {
   "cell_type": "code",
   "execution_count": 1,
   "id": "3457f6b8-ec4f-4737-938e-5fa95d833c1d",
   "metadata": {},
   "outputs": [],
   "source": [
    "import pandas as pd\n",
    "import numpy as np\n",
    "import json\n",
    "\n",
    "from tqdm.notebook import tqdm"
   ]
  },
  {
   "cell_type": "code",
   "execution_count": 2,
   "id": "78969e38-2ea0-48c1-bf77-770413679b58",
   "metadata": {},
   "outputs": [
    {
     "data": {
      "text/html": [
       "<div>\n",
       "<style scoped>\n",
       "    .dataframe tbody tr th:only-of-type {\n",
       "        vertical-align: middle;\n",
       "    }\n",
       "\n",
       "    .dataframe tbody tr th {\n",
       "        vertical-align: top;\n",
       "    }\n",
       "\n",
       "    .dataframe thead th {\n",
       "        text-align: right;\n",
       "    }\n",
       "</style>\n",
       "<table border=\"1\" class=\"dataframe\">\n",
       "  <thead>\n",
       "    <tr style=\"text-align: right;\">\n",
       "      <th></th>\n",
       "      <th>PredictionString</th>\n",
       "      <th>image_id</th>\n",
       "    </tr>\n",
       "  </thead>\n",
       "  <tbody>\n",
       "    <tr>\n",
       "      <th>0</th>\n",
       "      <td>7 0.9613852500915527 216.7988739013672 53.5352...</td>\n",
       "      <td>test/0000.jpg</td>\n",
       "    </tr>\n",
       "    <tr>\n",
       "      <th>1</th>\n",
       "      <td>6 0.4535674750804901 748.309814453125 657.1721...</td>\n",
       "      <td>test/0001.jpg</td>\n",
       "    </tr>\n",
       "    <tr>\n",
       "      <th>2</th>\n",
       "      <td>4 0.8279581665992737 866.7210083007812 245.693...</td>\n",
       "      <td>test/0002.jpg</td>\n",
       "    </tr>\n",
       "    <tr>\n",
       "      <th>3</th>\n",
       "      <td>9 0.8936083912849426 146.02633666992188 262.45...</td>\n",
       "      <td>test/0003.jpg</td>\n",
       "    </tr>\n",
       "    <tr>\n",
       "      <th>4</th>\n",
       "      <td>1 0.575635552406311 192.84735107421875 248.478...</td>\n",
       "      <td>test/0004.jpg</td>\n",
       "    </tr>\n",
       "  </tbody>\n",
       "</table>\n",
       "</div>"
      ],
      "text/plain": [
       "                                    PredictionString       image_id\n",
       "0  7 0.9613852500915527 216.7988739013672 53.5352...  test/0000.jpg\n",
       "1  6 0.4535674750804901 748.309814453125 657.1721...  test/0001.jpg\n",
       "2  4 0.8279581665992737 866.7210083007812 245.693...  test/0002.jpg\n",
       "3  9 0.8936083912849426 146.02633666992188 262.45...  test/0003.jpg\n",
       "4  1 0.575635552406311 192.84735107421875 248.478...  test/0004.jpg"
      ]
     },
     "execution_count": 2,
     "metadata": {},
     "output_type": "execute_result"
    }
   ],
   "source": [
    "csv_path = 'univ-5fold.csv'\n",
    "\n",
    "df = pd.read_csv(csv_path)\n",
    "df.drop('Unnamed: 0', axis=1, inplace=True)\n",
    "for i, row in df.iterrows():\n",
    "    assert type(row['PredictionString']) != float, i\n",
    "    df[df.iloc[:,0].isna()]\n",
    "\n",
    "df_csv = df.copy()\n",
    "df_csv.head()"
   ]
  },
  {
   "cell_type": "code",
   "execution_count": 34,
   "id": "f2579ed4-7c19-4cb3-9f90-46434f577f55",
   "metadata": {
    "tags": []
   },
   "outputs": [
    {
     "data": {
      "application/vnd.jupyter.widget-view+json": {
       "model_id": "8f88c68f0b0a4bccb5bcdedf1ea1679d",
       "version_major": 2,
       "version_minor": 0
      },
      "text/plain": [
       "  0%|          | 0/4871 [00:00<?, ?it/s]"
      ]
     },
     "metadata": {},
     "output_type": "display_data"
    },
    {
     "data": {
      "text/html": [
       "<div>\n",
       "<style scoped>\n",
       "    .dataframe tbody tr th:only-of-type {\n",
       "        vertical-align: middle;\n",
       "    }\n",
       "\n",
       "    .dataframe tbody tr th {\n",
       "        vertical-align: top;\n",
       "    }\n",
       "\n",
       "    .dataframe thead th {\n",
       "        text-align: right;\n",
       "    }\n",
       "</style>\n",
       "<table border=\"1\" class=\"dataframe\">\n",
       "  <thead>\n",
       "    <tr style=\"text-align: right;\">\n",
       "      <th></th>\n",
       "      <th>image_id</th>\n",
       "      <th>category_id</th>\n",
       "      <th>score</th>\n",
       "      <th>area</th>\n",
       "      <th>bbox</th>\n",
       "      <th>iscrowd</th>\n",
       "      <th>id</th>\n",
       "    </tr>\n",
       "  </thead>\n",
       "  <tbody>\n",
       "    <tr>\n",
       "      <th>0</th>\n",
       "      <td>0</td>\n",
       "      <td>7</td>\n",
       "      <td>0.961385</td>\n",
       "      <td>99815.039999</td>\n",
       "      <td>[216.8, 53.5, 237.1, 420.9]</td>\n",
       "      <td>0</td>\n",
       "      <td>30000</td>\n",
       "    </tr>\n",
       "    <tr>\n",
       "      <th>1</th>\n",
       "      <td>0</td>\n",
       "      <td>7</td>\n",
       "      <td>0.951324</td>\n",
       "      <td>63649.199140</td>\n",
       "      <td>[118.6, 422.8, 211.9, 300.3]</td>\n",
       "      <td>0</td>\n",
       "      <td>30001</td>\n",
       "    </tr>\n",
       "    <tr>\n",
       "      <th>2</th>\n",
       "      <td>0</td>\n",
       "      <td>7</td>\n",
       "      <td>0.926737</td>\n",
       "      <td>177775.498759</td>\n",
       "      <td>[602.9, 518.8, 354.3, 501.8]</td>\n",
       "      <td>0</td>\n",
       "      <td>30002</td>\n",
       "    </tr>\n",
       "    <tr>\n",
       "      <th>3</th>\n",
       "      <td>0</td>\n",
       "      <td>7</td>\n",
       "      <td>0.916981</td>\n",
       "      <td>75925.221451</td>\n",
       "      <td>[390.4, 192.0, 213.2, 356.1]</td>\n",
       "      <td>0</td>\n",
       "      <td>30003</td>\n",
       "    </tr>\n",
       "    <tr>\n",
       "      <th>4</th>\n",
       "      <td>0</td>\n",
       "      <td>7</td>\n",
       "      <td>0.874926</td>\n",
       "      <td>54109.497580</td>\n",
       "      <td>[449.2, 601.6, 198.0, 273.2]</td>\n",
       "      <td>0</td>\n",
       "      <td>30004</td>\n",
       "    </tr>\n",
       "  </tbody>\n",
       "</table>\n",
       "</div>"
      ],
      "text/plain": [
       "   image_id  category_id     score           area  \\\n",
       "0         0            7  0.961385   99815.039999   \n",
       "1         0            7  0.951324   63649.199140   \n",
       "2         0            7  0.926737  177775.498759   \n",
       "3         0            7  0.916981   75925.221451   \n",
       "4         0            7  0.874926   54109.497580   \n",
       "\n",
       "                           bbox  iscrowd     id  \n",
       "0   [216.8, 53.5, 237.1, 420.9]        0  30000  \n",
       "1  [118.6, 422.8, 211.9, 300.3]        0  30001  \n",
       "2  [602.9, 518.8, 354.3, 501.8]        0  30002  \n",
       "3  [390.4, 192.0, 213.2, 356.1]        0  30003  \n",
       "4  [449.2, 601.6, 198.0, 273.2]        0  30004  "
      ]
     },
     "execution_count": 34,
     "metadata": {},
     "output_type": "execute_result"
    }
   ],
   "source": [
    "classes = np.array([\"General trash\", \"Paper\", \"Paper pack\", \"Metal\", \"Glass\", \n",
    "           \"Plastic\", \"Styrofoam\", \"Plastic bag\", \"Battery\", \"Clothing\"])\n",
    "\n",
    "df = pd.DataFrame()\n",
    "\n",
    "for index, row in tqdm(df_csv.iterrows(), total=len(df_csv)):\n",
    "    preds, img_id = row\n",
    "\n",
    "    L = np.array(preds.split()).reshape(-1, 6).astype(float).T\n",
    "\n",
    "    labels = L[0].astype(int)\n",
    "    scores, xs, ys, Xs, Ys = L[1:]\n",
    "    ws = Xs - xs\n",
    "    hs = Ys - ys\n",
    "    areas = ws * hs\n",
    "\n",
    "    xs = np.round(xs, 1)\n",
    "    ys = np.round(ys, 1)\n",
    "    ws = np.round(ws, 1)\n",
    "    hs = np.round(hs, 1)\n",
    "\n",
    "    df_tmp = pd.DataFrame({\n",
    "        'image_id': np.repeat(int(img_id[5:9]), len(xs)),\n",
    "        'category_id': labels,\n",
    "        'score': scores,\n",
    "        'area': areas,\n",
    "        'bbox': '',\n",
    "        'iscrowd': 0,\n",
    "        'id': 0,\n",
    "    })\n",
    "    for i, r in df_tmp.iterrows():\n",
    "        df_tmp.at[i, 'bbox'] = [xs[i], ys[i], ws[i], hs[i]]\n",
    "\n",
    "    df = df.append(df_tmp, ignore_index=True)\n",
    "\n",
    "df['id'] = range(30000, 30000+len(df))\n",
    "\n",
    "df_backup = df.copy()"
   ]
  },
  {
   "cell_type": "markdown",
   "id": "747d8154-201a-4601-85c7-6d6d5de05419",
   "metadata": {},
   "source": [
    "Train / Test Set의 이미지 개수가 비슷하므로, 박스 개수도 비슷할 것이라는 가정 하에 비슷한 박스 개수를 가지는 Score Threshold 탐색"
   ]
  },
  {
   "cell_type": "code",
   "execution_count": 49,
   "id": "d144f94f-f5d5-4a5f-8075-cfa3a908ab4b",
   "metadata": {},
   "outputs": [
    {
     "name": "stdout",
     "output_type": "stream",
     "text": [
      "Score Threshold: 0.30, # of boxes: 22927\n"
     ]
    }
   ],
   "source": [
    "# 박스 개수가 적당한 Threshold 탐색\n",
    "for thr in np.arange(0, 1, 0.01):\n",
    "    df_thr = df_norm[df_norm.score >= thr].copy()\n",
    "    if len(df_thr) < 23000:\n",
    "        break\n",
    "\n",
    "df_thr.drop('score', axis=1, inplace=True)\n",
    "df_thr.image_id += 10000\n",
    "print(f'Score Threshold: {thr:.2f}, # of boxes: {len(df_thr)}')"
   ]
  },
  {
   "cell_type": "markdown",
   "id": "939bbefd-2fdb-40eb-ba3f-4777ab02c3f8",
   "metadata": {},
   "source": [
    "# COCO format json 저장"
   ]
  },
  {
   "cell_type": "code",
   "execution_count": 51,
   "id": "8f9050bb-79e0-40c3-9833-1ea1ed104c14",
   "metadata": {},
   "outputs": [],
   "source": [
    "# Test.json images 정보\n",
    "with open('/opt/ml/dataset/test.json') as f:\n",
    "    test = json.load(f)\n",
    "    \n",
    "test_imgs = test['images']\n",
    "\n",
    "# 박스가 없는 이미지 제거\n",
    "test_imgs = np.array(test_imgs)[df_thr.image_id.unique()-10000].tolist()\n",
    "\n",
    "for k in range(len(test_imgs)):\n",
    "    test_imgs[k]['id'] += 10000"
   ]
  },
  {
   "cell_type": "code",
   "execution_count": 54,
   "id": "0758b523-f9f9-40fb-88e9-c553e7a11fc5",
   "metadata": {},
   "outputs": [],
   "source": [
    "# 합칠 Train.json 파일 불러옴\n",
    "with open('/opt/ml/dataset/train-kfold-0.json') as f:\n",
    "    coco = json.load(f)\n",
    "\n",
    "# 합침\n",
    "coco['images'] += timgs\n",
    "coco['annotations'] += df_thr.to_dict('records')"
   ]
  },
  {
   "cell_type": "code",
   "execution_count": 55,
   "id": "e8830cc7-8baa-4e7e-be6b-e9c31fb780ab",
   "metadata": {},
   "outputs": [],
   "source": [
    "with open('pseudo-label-3.json', 'w') as f:\n",
    "    json.dump(coco, f)"
   ]
  },
  {
   "cell_type": "markdown",
   "id": "e347772e-05b5-4b46-ba55-d71454c339cb",
   "metadata": {},
   "source": [
    "# COCO format json 저장 (test only)"
   ]
  },
  {
   "cell_type": "code",
   "execution_count": 74,
   "id": "20f74808-ba46-4597-9bc4-fafd4267f491",
   "metadata": {},
   "outputs": [],
   "source": [
    "# Test.json images 정보\n",
    "with open('/opt/ml/dataset/test.json') as f:\n",
    "    test = json.load(f)\n",
    "    \n",
    "test_imgs = test['images']\n",
    "\n",
    "# 박스가 없는 이미지 제거\n",
    "df_tmp = df_thr.copy()\n",
    "df_tmp.image_id -= 10000\n",
    "df_tmp.id -= 30000\n",
    "test_imgs = np.array(test_imgs)[df_tmp.image_id.unique()].tolist()\n",
    "\n",
    "test['images'] = test_imgs\n",
    "test['annotations'] = df_tmp.to_dict('records')\n",
    "\n",
    "with open('test-only-pseudo.json', 'w') as f:\n",
    "    json.dump(test, f)"
   ]
  }
 ],
 "metadata": {
  "kernelspec": {
   "display_name": "Python 3 (ipykernel)",
   "language": "python",
   "name": "python3"
  },
  "language_info": {
   "codemirror_mode": {
    "name": "ipython",
    "version": 3
   },
   "file_extension": ".py",
   "mimetype": "text/x-python",
   "name": "python",
   "nbconvert_exporter": "python",
   "pygments_lexer": "ipython3",
   "version": "3.9.12"
  }
 },
 "nbformat": 4,
 "nbformat_minor": 5
}
