{
 "cells": [
  {
   "cell_type": "markdown",
   "id": "93b62743-0166-469f-99d4-b8612aba8b59",
   "metadata": {},
   "source": [
    "# MMDetection PIPELINE 공부용 코드\n",
    "\n",
    "https://mmdetection.readthedocs.io/en/latest/tutorials/data_pipeline.html"
   ]
  },
  {
   "cell_type": "code",
   "execution_count": null,
   "id": "c497fc37-7a79-43df-beb7-4bfb03566f08",
   "metadata": {},
   "outputs": [],
   "source": [
    "import numpy as np\n",
    "from rich import print\n",
    "from copy import deepcopy\n",
    "\n",
    "import matplotlib.pyplot as plt\n",
    "from mmdet.datasets.pipelines.transforms import Resize, Pad, Albu\n",
    "from mmdet.datasets.pipelines.loading import LoadImageFromFile, LoadAnnotations\n",
    "from mmdet.core.visualization import imshow_det_bboxes"
   ]
  },
  {
   "cell_type": "code",
   "execution_count": null,
   "id": "13b9076b-dac9-4fcd-8712-fe6ffc9545a5",
   "metadata": {},
   "outputs": [],
   "source": [
    "load = LoadImageFromFile()\n",
    "loadann = LoadAnnotations(with_bbox=True)\n",
    "rsz = Resize(\n",
    "    img_scale=[(1333, 512), (1333, 1024)],\n",
    "    keep_ratio=True\n",
    ")\n",
    "\n",
    "pad = Pad(\n",
    "    size_divisor=32\n",
    ")"
   ]
  },
  {
   "cell_type": "code",
   "execution_count": null,
   "id": "53c8398b-f0c0-4f39-a93a-5e680b23cc2e",
   "metadata": {},
   "outputs": [],
   "source": [
    "# reulsts: 데이터셋 내부에서 pipeline 호출 직전의 이미지 데이터\n",
    "#\n",
    "# https://bit.ly/3AMpNE4\n",
    "# 위 링크에서 self.pre_pipeline 후, self.pipeline 직전의 데이터임\n",
    "\n",
    "results = {\n",
    "    'img_prefix': '/opt/ml/dataset/',\n",
    "    'seg_prefix': None,\n",
    "    'proposal_file': None,\n",
    "    'bbox_fields': [],\n",
    "    'mask_fields': [],\n",
    "    'seg_fields': [],\n",
    "    'img_info': {        \n",
    "        'width': 1024,\n",
    "        'height': 1024,\n",
    "        'file_name': 'train/0000.jpg',\n",
    "        'license': 0,\n",
    "        'flickr_url': None,\n",
    "        'coco_url': None,\n",
    "        'date_captured': '2020-12-26 14:44:23',\n",
    "        'id': 0,\n",
    "        'filename': 'train/0000.jpg',\n",
    "    },\n",
    "    'ann_info': {\n",
    "        'bboxes': np.array([[197.6, 193.7, 745.4, 663.4]], dtype=np.float32),\n",
    "        'labels': np.array([0]),\n",
    "        'bboxes_ignore': np.empty((0, 4)),\n",
    "        'masks': [None],\n",
    "        'seg_map': 'train/0000.png'\n",
    "    }\n",
    "}\n",
    "\n",
    "ret = load(results)\n",
    "ret = loadann(ret)\n",
    "ret.keys()"
   ]
  },
  {
   "cell_type": "code",
   "execution_count": null,
   "id": "ada4b1e8-0227-4557-97f4-1fc113541019",
   "metadata": {},
   "outputs": [],
   "source": [
    "ret2 = rsz(deepcopy(ret))\n",
    "print(ret2.keys())\n",
    "print(ret2['img'].shape)\n",
    "imshow_det_bboxes(ret2['img'], bboxes=ret2['gt_bboxes'], labels=ret2['gt_labels'])"
   ]
  },
  {
   "cell_type": "code",
   "execution_count": null,
   "id": "67c6e639-e25a-435f-be79-3c001242ca6f",
   "metadata": {},
   "outputs": [],
   "source": [
    "ret3 = pad(ret2)\n",
    "print(ret3.keys())\n",
    "print(ret3['img'].shape)\n",
    "imshow_det_bboxes(ret3['img'], bboxes=ret3['gt_bboxes'], labels=ret3['gt_labels'])"
   ]
  },
  {
   "cell_type": "code",
   "execution_count": null,
   "id": "66609391-1100-43db-bf11-b4371206d2df",
   "metadata": {},
   "outputs": [],
   "source": [
    "albu_train_transforms = [\n",
    "    dict(\n",
    "        type='ShiftScaleRotate',\n",
    "        shift_limit=0.0625,\n",
    "        scale_limit=0.0,\n",
    "        rotate_limit=0,\n",
    "        interpolation=1,\n",
    "        p=0.5),\n",
    "    dict(\n",
    "        type='RandomBrightnessContrast',\n",
    "        brightness_limit=[0.1, 0.3],\n",
    "        contrast_limit=[0.1, 0.3],\n",
    "        p=0.2),\n",
    "    dict(\n",
    "        type='OneOf',\n",
    "        transforms=[\n",
    "            dict(\n",
    "                type='RGBShift',\n",
    "                r_shift_limit=10,\n",
    "                g_shift_limit=10,\n",
    "                b_shift_limit=10,\n",
    "                p=1.0),\n",
    "            dict(\n",
    "                type='HueSaturationValue',\n",
    "                hue_shift_limit=20,\n",
    "                sat_shift_limit=30,\n",
    "                val_shift_limit=20,\n",
    "                p=1.0)\n",
    "        ],\n",
    "        p=0.1),\n",
    "    dict(type='JpegCompression', quality_lower=85, quality_upper=95, p=0.2),\n",
    "    dict(type='ChannelShuffle', p=0.1),\n",
    "    dict(\n",
    "        type='OneOf',\n",
    "        transforms=[\n",
    "            dict(type='Blur', blur_limit=3, p=1.0),\n",
    "            dict(type='MedianBlur', blur_limit=3, p=1.0)\n",
    "        ],\n",
    "        p=0.1),\n",
    "]\n",
    "\n",
    "myalbu = Albu(\n",
    "    transforms=albu_train_transforms,\n",
    "    bbox_params=dict(\n",
    "        type='BboxParams',\n",
    "        format='pascal_voc',\n",
    "        label_fields=['gt_labels'],\n",
    "        min_visibility=0.0,\n",
    "        filter_lost_elements=True),\n",
    "    keymap={\n",
    "        'img': 'image',\n",
    "        'gt_masks': 'masks',\n",
    "        'gt_bboxes': 'bboxes'\n",
    "    },\n",
    "    update_pad_shape=False,\n",
    "    skip_img_without_anno=True\n",
    ")"
   ]
  },
  {
   "cell_type": "code",
   "execution_count": null,
   "id": "4d4a7f1a-b572-4f4b-8a9a-45575592ab8b",
   "metadata": {},
   "outputs": [],
   "source": [
    "ret4 = myalbu(ret3)\n",
    "print(ret4.keys())\n",
    "print(ret4['img'].shape)\n",
    "imshow_det_bboxes(ret4['img'], bboxes=ret4['gt_bboxes'], labels=ret4['gt_labels'])"
   ]
  }
 ],
 "metadata": {
  "kernelspec": {
   "display_name": "detection",
   "language": "python",
   "name": "detection"
  },
  "language_info": {
   "codemirror_mode": {
    "name": "ipython",
    "version": 3
   },
   "file_extension": ".py",
   "mimetype": "text/x-python",
   "name": "python",
   "nbconvert_exporter": "python",
   "pygments_lexer": "ipython3",
   "version": "3.7.15"
  }
 },
 "nbformat": 4,
 "nbformat_minor": 5
}
