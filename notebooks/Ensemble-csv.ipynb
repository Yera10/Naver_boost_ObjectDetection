{
 "cells": [
  {
   "cell_type": "markdown",
   "metadata": {},
   "source": [
    "# 앙상블\n",
    "submission.csv 파일들을 앙상블 해주는 코드"
   ]
  },
  {
   "cell_type": "code",
   "execution_count": null,
   "metadata": {},
   "outputs": [],
   "source": [
    "!pip install ensemble_boxes"
   ]
  },
  {
   "cell_type": "code",
   "execution_count": null,
   "metadata": {},
   "outputs": [],
   "source": [
    "import numpy as np\n",
    "import pandas as pd\n",
    "\n",
    "from ensemble_boxes import *\n",
    "from pycocotools.coco import COCO\n",
    "from tqdm import tqdm"
   ]
  },
  {
   "cell_type": "code",
   "execution_count": null,
   "metadata": {},
   "outputs": [],
   "source": [
    "# 앙상블할 파일 목록\n",
    "files = [\n",
    "    'fold-tj.csv',\n",
    "    'fold-gh.csv',\n",
    "    'fold-gun.csv',\n",
    "    'fold-kh.csv',\n",
    "    'fold-yr.csv'\n",
    "]\n",
    "\n",
    "dfs = [pd.read_csv(file) for file in files]\n",
    "\n",
    "# 같은 이미지 Set에 대한 예측인지 검사\n",
    "for df1 in dfs:\n",
    "    for df2 in dfs:\n",
    "        assert all(df1['image_id'] == df2['image_id']), '다른 데이터셋에 대한 CSV 파일이 섞인 것 같음'"
   ]
  },
  {
   "cell_type": "code",
   "execution_count": null,
   "metadata": {
    "tags": []
   },
   "outputs": [],
   "source": [
    "rows = []\n",
    "\n",
    "for i in tqdm(range(len(dfs[0]))):\n",
    "    boxes_list = []\n",
    "    scores_list = []\n",
    "    labels_list = []\n",
    "    \n",
    "    for df in dfs:\n",
    "        preds, image_id = df.iloc[i]\n",
    "        \n",
    "        assert image_id == f'test/{i:04d}.jpg'\n",
    "        \n",
    "        if type(preds) == float:\n",
    "            boxes = []\n",
    "            scores = []\n",
    "            labels = []\n",
    "        else:\n",
    "            L = preds.split()\n",
    "            data = np.array(L).reshape(-1, 6)\n",
    "\n",
    "            labels = data[:, 0].astype(int)\n",
    "            scores = data[:, 1].astype(float)\n",
    "            boxes = data[:, 2:].astype(float) / 1024.\n",
    "        \n",
    "        boxes_list.append(boxes)\n",
    "        scores_list.append(scores)\n",
    "        labels_list.append(labels)\n",
    "    \n",
    "    # 앙상블 진행 (NMS, Soft-NMS, NMW, WBF 중 선택)\n",
    "    # https://github.com/ZFTurbo/Weighted-Boxes-Fusion\n",
    "    boxes_e, scores_e, labels_e = weighted_boxes_fusion(boxes_list, scores_list, labels_list)\n",
    "    \n",
    "    PredictionString = ''\n",
    "    for box, score, label in zip(boxes_e, scores_e, labels_e):\n",
    "        PredictionString += f'{int(label)} {score} {box[0]*1024} {box[1]*1024} {box[2]*1024} {box[3]*1024} '\n",
    "    row = pd.Series({\n",
    "        'PredictionString': PredictionString,\n",
    "        'image_id': image_id\n",
    "    }).to_frame(name=image_id).T\n",
    "    \n",
    "    rows.append(row)"
   ]
  },
  {
   "cell_type": "code",
   "execution_count": null,
   "metadata": {},
   "outputs": [],
   "source": [
    "df_ensemble = pd.concat(rows)\n",
    "df_ensemble.to_csv('ensemble-5fold.csv')\n",
    "\n",
    "df_ensemble.head()"
   ]
  },
  {
   "cell_type": "markdown",
   "metadata": {},
   "source": [
    "# 박스 개수 분석"
   ]
  },
  {
   "cell_type": "code",
   "execution_count": null,
   "metadata": {
    "tags": []
   },
   "outputs": [],
   "source": [
    "all_files = files + ['ensemble']\n",
    "all_dfs = dfs + [df_ensemble]\n",
    "cnt_list = []\n",
    "\n",
    "for file, df in tqdm(zip(all_files, all_dfs), total=len(all_files)):\n",
    "    for i in range(len(df)):\n",
    "        preds, image_id = df.iloc[i][['PredictionString', 'image_id']]\n",
    "        idx = df.iloc[i].name\n",
    "\n",
    "        if type(preds) == float:\n",
    "            df.loc[idx, ['cnt', 'cnt_small', 'cnt_medium', 'cnt_large']] = 0\n",
    "            continue\n",
    "\n",
    "        L = preds.split()\n",
    "        data = np.array(L).reshape(-1, 6)\n",
    "\n",
    "        bboxes = data[:, 2:].astype(float)\n",
    "        x, y, X, Y = bboxes.T\n",
    "        w = X - x\n",
    "        h = Y - y\n",
    "        area = w*h\n",
    "        \n",
    "        # assert (x >= 0).all()\n",
    "        # assert (X <= 1024).all()\n",
    "        # assert (y >= 0).all()\n",
    "        # assert (Y <= 1024).all()\n",
    "\n",
    "        df.loc[idx, 'cnt'] = len(bboxes)\n",
    "        df.loc[idx, 'cnt_small'] = np.where(area <= 32**2)[0].size\n",
    "        df.loc[idx, 'cnt_medium'] = np.where((32**2 <= area) & (area <= 96**2))[0].size\n",
    "        df.loc[idx, 'cnt_large'] = np.where(area >= 96**2)[0].size\n",
    "    \n",
    "    cnt_list.append(df.iloc[:, 2:].mean().to_frame(name=file).T)\n",
    "    \n",
    "pd.concat(cnt_list)"
   ]
  }
 ],
 "metadata": {
  "kernelspec": {
   "display_name": "detection",
   "language": "python",
   "name": "detection"
  },
  "language_info": {
   "codemirror_mode": {
    "name": "ipython",
    "version": 3
   },
   "file_extension": ".py",
   "mimetype": "text/x-python",
   "name": "python",
   "nbconvert_exporter": "python",
   "pygments_lexer": "ipython3",
   "version": "3.7.15"
  }
 },
 "nbformat": 4,
 "nbformat_minor": 4
}
