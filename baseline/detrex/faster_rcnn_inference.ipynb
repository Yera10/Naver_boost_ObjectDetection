{
 "cells": [
  {
   "cell_type": "code",
   "execution_count": 5,
   "id": "9614999e",
   "metadata": {},
   "outputs": [],
   "source": [
    "import os\n",
    "import copy\n",
    "import torch\n",
    "from tqdm import tqdm\n",
    "import pandas as pd\n",
    "import json"
   ]
  },
  {
   "cell_type": "code",
   "execution_count": 6,
   "id": "b07cc839",
   "metadata": {},
   "outputs": [],
   "source": [
    "with open('/opt/ml/level2_objectdetection_cv-level2-cv-11/baseline/detrex/output/dino_swin_tiny_224_4scale_12ep_22kto1k_finetune/coco_instances_results.json', 'r') as f:\n",
    "    j_data = json.load(f)\n",
    "\n",
    "from collections import defaultdict\n",
    "dic = defaultdict(str)\n",
    "\n",
    "for i in j_data:\n",
    "    image_id = \"test/{0:0>4}.jpg\".format(i['image_id'])\n",
    "    dic[image_id] += (str(i['category_id']) + ' ' + str(i['score']) + ' ' + str(i['bbox'][0]) + ' ' \n",
    "        + str(i['bbox'][1]) + ' ' + str(i['bbox'][2] + i['bbox'][0]) + ' ' + str(i['bbox'][3] + i['bbox'][1]) + ' ')\n",
    "    \n",
    "\n",
    "submission = pd.DataFrame()\n",
    "submission['PredictionString'] = dic.values()\n",
    "submission['image_id'] = dic.keys()\n",
    "submission.to_csv(os.path.join('/opt/ml', f'submission_detrex_wh.csv'), index=None)"
   ]
  }
 ],
 "metadata": {
  "kernelspec": {
   "display_name": "detection",
   "language": "python",
   "name": "detection"
  },
  "language_info": {
   "codemirror_mode": {
    "name": "ipython",
    "version": 3
   },
   "file_extension": ".py",
   "mimetype": "text/x-python",
   "name": "python",
   "nbconvert_exporter": "python",
   "pygments_lexer": "ipython3",
   "version": "3.7.15"
  },
  "vscode": {
   "interpreter": {
    "hash": "b94c6de4bce9a87a354a5fa9998691adc0532adddb9d4140f5ba941d00b01fae"
   }
  }
 },
 "nbformat": 4,
 "nbformat_minor": 5
}
