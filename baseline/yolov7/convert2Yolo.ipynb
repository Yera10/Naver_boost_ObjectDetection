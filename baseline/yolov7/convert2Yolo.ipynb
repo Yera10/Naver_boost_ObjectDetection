{
 "cells": [
  {
   "cell_type": "markdown",
   "id": "29dc41aa-6a8c-49ae-8112-287ae9a8470c",
   "metadata": {},
   "source": [
    "# 데이터셋 변환 코드\n",
    "\n",
    "아래 스크립트 5번쨰 줄 `--label` 옵션에 변환할 annotation.json을 넣어주면 됨.\n",
    "\n",
    "`/opt/ml/dataset/yolo_tmp/train` 디렉터리에 변환된 데이터셋이 저장되고, 원하는 경로로 옮기면 됨 ex) `/opt/ml/dataset/yolo_train_fold0`"
   ]
  },
  {
   "cell_type": "code",
   "execution_count": null,
   "id": "3cb3eb04-5d21-460b-af79-19ff31afbd17",
   "metadata": {},
   "outputs": [],
   "source": [
    "import glob\n",
    "import os"
   ]
  },
  {
   "cell_type": "code",
   "execution_count": null,
   "id": "8e9f0677-faee-4463-a879-36d21f1bea69",
   "metadata": {},
   "outputs": [],
   "source": [
    "!mkdir -p /opt/ml/dataset/yolo_tmp/train\n",
    "!python convert2Yolo/example.py \\\n",
    "    --dataset COCO \\\n",
    "    --img_path '/opt/ml/dataset' \\\n",
    "    --label '/opt/ml/dataset/val-kfold-0.json' \\\n",
    "    --convert_output_path '/opt/ml/dataset/yolo_tmp' \\\n",
    "    --img_type '.jpg' \\\n",
    "    --manifest_path '/opt/ml/dataset/yolo_tmp' \\\n",
    "    --cls_list_file names.txt\n",
    "\n",
    "for abspath in glob.glob('/opt/ml/dataset/yolo_tmp/train/*'):\n",
    "    basename = os.path.basename(abspath)\n",
    "    filename, ext = os.path.splitext(basename)\n",
    "    \n",
    "    os.link(f'/opt/ml/dataset/train/{filename}.jpg', f'/opt/ml/dataset/yolo_tmp/train/{filename}.jpg')"
   ]
  },
  {
   "cell_type": "markdown",
   "id": "a906fe35-0ea0-4079-afb1-54ac2d6f7a8b",
   "metadata": {},
   "source": [
    "# 학습 코드\n",
    "\n",
    "참고용으로 작성했음. 여기서 실행하지 말 것."
   ]
  },
  {
   "cell_type": "code",
   "execution_count": null,
   "id": "9c6679b1-fac6-4a1c-8350-47825d5798bb",
   "metadata": {},
   "outputs": [],
   "source": [
    "!python train.py \\\n",
    "    --workers 8 \\\n",
    "    --device 0 \\\n",
    "    --epochs 1 \\\n",
    "    --batch-size 4 \\\n",
    "    --data data/coco.yaml \\\n",
    "    --img 640 640 \\\n",
    "    --cfg cfg/training/yolov7.yaml \\\n",
    "    --weights ../weights/yolov7.pt \\\n",
    "    --name yolov7 \\\n",
    "    --hyp data/hyp.scratch.custom.yaml"
   ]
  }
 ],
 "metadata": {
  "kernelspec": {
   "display_name": "detection",
   "language": "python",
   "name": "detection"
  },
  "language_info": {
   "codemirror_mode": {
    "name": "ipython",
    "version": 3
   },
   "file_extension": ".py",
   "mimetype": "text/x-python",
   "name": "python",
   "nbconvert_exporter": "python",
   "pygments_lexer": "ipython3",
   "version": "3.7.15"
  }
 },
 "nbformat": 4,
 "nbformat_minor": 5
}
